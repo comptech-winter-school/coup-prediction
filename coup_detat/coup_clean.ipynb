{
 "cells": [
  {
   "cell_type": "code",
   "execution_count": 1,
   "metadata": {},
   "outputs": [],
   "source": [
    "import pandas as pd"
   ]
  },
  {
   "cell_type": "markdown",
   "metadata": {},
   "source": [
    "**Cleaning data**"
   ]
  },
  {
   "cell_type": "code",
   "execution_count": 2,
   "metadata": {},
   "outputs": [],
   "source": [
    "dataset = pd.read_csv('data/Coup_Data_v2.0.0.csv', encoding='utf-8', delimiter=',', error_bad_lines=False) \n",
    "\n",
    "# убираем уже не существующие страны\n",
    "old_countries = ['Czechoslovakia', 'Yemen PDR', 'USSR']\n",
    "clean_data = dataset.copy()\n",
    "for c in old_countries:\n",
    "    clean_data = clean_data[clean_data.country != c]\n",
    "\n",
    "# учёт разных названий одной и той же страны\n",
    "clean_data = clean_data.replace(to_replace={'Yemen':'Yemen Arab Republic','Swaziland':'Eswatini', 'Ecudaor':'Ecuador','Kyrgyz Republic':'Kyrgyzstan', \"Cote d'Ivoire\":'Ivory Coast','Congo':'Democratic Republic of the Congo'})\n",
    "#clean_data.iloc[279] проверить что в конкретной строке\n",
    "\n",
    "# запись фрейма в файл\n",
    "clean_data.to_csv('data/Coup_Data_v2.0.0_clean.csv', encoding='utf-8')"
   ]
  },
  {
   "cell_type": "code",
   "execution_count": 14,
   "metadata": {},
   "outputs": [],
   "source": [
    "# оставляем только два слобца\n",
    "data = pd.read_csv('data/Coup_Data_v2.0.0_clean.csv', encoding='utf-8', delimiter=',', error_bad_lines=False) "
   ]
  },
  {
   "cell_type": "code",
   "execution_count": 15,
   "metadata": {},
   "outputs": [
    {
     "data": {
      "text/plain": [
       "Index(['Unnamed: 0', 'coup_id', 'cowcode', 'country', 'year', 'month', 'day',\n",
       "       'event_type', 'unrealized', 'realized', 'conspiracy', 'attempt',\n",
       "       'military', 'dissident', 'rebel', 'palace', 'foreign', 'auto', 'resign',\n",
       "       'popular', 'counter', 'other', 'noharm', 'injured', 'killed', 'harrest',\n",
       "       'jailed', 'tried', 'fled', 'exile'],\n",
       "      dtype='object')"
      ]
     },
     "execution_count": 15,
     "metadata": {},
     "output_type": "execute_result"
    }
   ],
   "source": [
    "data.columns"
   ]
  },
  {
   "cell_type": "markdown",
   "metadata": {},
   "source": [
    "**Add UN countries**"
   ]
  },
  {
   "cell_type": "code",
   "execution_count": 16,
   "metadata": {},
   "outputs": [],
   "source": [
    "data_all = data[['country', 'year']]"
   ]
  },
  {
   "cell_type": "code",
   "execution_count": 17,
   "metadata": {},
   "outputs": [],
   "source": [
    "countries = pd.read_csv('data/country_names.csv', encoding='utf-8', delimiter=',', error_bad_lines=False) \n",
    "list_for_adding = list(set(countries['country_name']) - set(data_all['country']))        "
   ]
  },
  {
   "cell_type": "code",
   "execution_count": 19,
   "metadata": {},
   "outputs": [],
   "source": [
    "data_un = pd.DataFrame({'country':list_for_adding, 'year':[0]*len(list_for_adding)}, \n",
    "                       columns=['country', 'year'])"
   ]
  },
  {
   "cell_type": "code",
   "execution_count": 21,
   "metadata": {},
   "outputs": [],
   "source": [
    "data_all = data_all.append(data_un, ignore_index=True)"
   ]
  },
  {
   "cell_type": "code",
   "execution_count": 22,
   "metadata": {},
   "outputs": [
    {
     "data": {
      "text/plain": [
       "<bound method DataFrame.info of                      country  year\n",
       "0               Burkina Faso  2014\n",
       "1                    Burundi  2015\n",
       "2                       Chad  2006\n",
       "3                      Egypt  2011\n",
       "4                      Egypt  2013\n",
       "5                       Fiji  2006\n",
       "6                     Guinea  2008\n",
       "7                     Guinea  2011\n",
       "8              Guinea-Bissau  2008\n",
       "9              Guinea-Bissau  2010\n",
       "10             Guinea-Bissau  2012\n",
       "11                  Honduras  2009\n",
       "12                   Lesotho  2014\n",
       "13                Madagascar  2009\n",
       "14                Madagascar  2010\n",
       "15                  Maldives  2012\n",
       "16                      Mali  2012\n",
       "17                      Mali  2012\n",
       "18                Mauritania  2008\n",
       "19                     Niger  2010\n",
       "20          Papua New Guinea  2012\n",
       "21                     Sudan  2012\n",
       "22                  Thailand  2006\n",
       "23                  Thailand  2014\n",
       "24                   Ukraine  2014\n",
       "25                   Algeria  2019\n",
       "26              Burkina Faso  2015\n",
       "27                East Timor  2008\n",
       "28                     Gabon  2019\n",
       "29                    Gambia  2014\n",
       "...                      ...   ...\n",
       "971                Kazakstan     0\n",
       "972                   Brunei     0\n",
       "973               Cape Verde     0\n",
       "974                   Canada     0\n",
       "975                   Latvia     0\n",
       "976                  Namibia     0\n",
       "977               Uzbekistan     0\n",
       "978                 Barbados     0\n",
       "979           Czech Republic     0\n",
       "980                  Estonia     0\n",
       "981                Palestine     0\n",
       "982                  Ireland     0\n",
       "983   Bosnia and Herzegovina     0\n",
       "984              Netherlands     0\n",
       "985                   Bhutan     0\n",
       "986                  Denmark     0\n",
       "987                   Kuwait     0\n",
       "988                  Iceland     0\n",
       "989                 Kiribati     0\n",
       "990                    Palau     0\n",
       "991                Australia     0\n",
       "992                    Nauru     0\n",
       "993            Liechtenstein     0\n",
       "994                    Malta     0\n",
       "995                   Tuvalu     0\n",
       "996                  Vietnam     0\n",
       "997                 Anguilla     0\n",
       "998                  Andorra     0\n",
       "999             Vatican City     0\n",
       "1000                   India     0\n",
       "\n",
       "[1001 rows x 2 columns]>"
      ]
     },
     "execution_count": 22,
     "metadata": {},
     "output_type": "execute_result"
    }
   ],
   "source": [
    "data_all.info"
   ]
  },
  {
   "cell_type": "code",
   "execution_count": 23,
   "metadata": {},
   "outputs": [],
   "source": [
    "data_all.to_csv('data/Coup_Data_v2.0.0_clean_with_un.csv', encoding='utf-8')"
   ]
  },
  {
   "cell_type": "code",
   "execution_count": null,
   "metadata": {},
   "outputs": [],
   "source": []
  }
 ],
 "metadata": {
  "kernelspec": {
   "display_name": "Python 3",
   "language": "python",
   "name": "python3"
  },
  "language_info": {
   "codemirror_mode": {
    "name": "ipython",
    "version": 3
   },
   "file_extension": ".py",
   "mimetype": "text/x-python",
   "name": "python",
   "nbconvert_exporter": "python",
   "pygments_lexer": "ipython3",
   "version": "3.8.5"
  }
 },
 "nbformat": 4,
 "nbformat_minor": 2
}
